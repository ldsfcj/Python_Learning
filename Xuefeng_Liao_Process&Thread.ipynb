{
 "cells": [
  {
   "cell_type": "code",
   "execution_count": 4,
   "metadata": {},
   "outputs": [
    {
     "name": "stdout",
     "output_type": "stream",
     "text": [
      "Process (23409) start\n",
      "I (23409) just create a child process (24052).\n",
      "I am child process (24052) and my parent is (23409).\n"
     ]
    }
   ],
   "source": [
    "import os\n",
    "\n",
    "print('Process (%s) start' %os.getpid())\n",
    "\n",
    "pid = os.fork()\n",
    "if pid == 0:\n",
    "    print('I am child process (%s) and my parent is (%s).' %(os.getpid(), os.getppid()))\n",
    "else:\n",
    "    print('I (%s) just create a child process (%s).' %(os.getpid(),pid))"
   ]
  },
  {
   "cell_type": "code",
   "execution_count": 12,
   "metadata": {},
   "outputs": [
    {
     "name": "stdout",
     "output_type": "stream",
     "text": [
      "$ nslookup www.python.org\n",
      "Exit code: 0\n"
     ]
    }
   ],
   "source": [
    "import subprocess\n",
    "\n",
    "print('$ nslookup www.python.org')\n",
    "r = subprocess.call(['nslookup', 'www.baidu.com'])\n",
    "print('Exit code:', r)"
   ]
  },
  {
   "cell_type": "code",
   "execution_count": 11,
   "metadata": {},
   "outputs": [
    {
     "name": "stdout",
     "output_type": "stream",
     "text": [
      "$ nslookup\n",
      "Server:\t\t192.168.1.1\n",
      "Address:\t192.168.1.1#53\n",
      "\n",
      "Non-authoritative answer:\n",
      "python.org\tmail exchanger = 50 mail.python.org.\n",
      "\n",
      "Authoritative answers can be found from:\n",
      "\n",
      "\n",
      "Exit code: 0\n"
     ]
    }
   ],
   "source": [
    "import subprocess\n",
    "\n",
    "print('$ nslookup')\n",
    "p = subprocess.Popen(['nslookup'], stdin=subprocess.PIPE, stdout=subprocess.PIPE, stderr=subprocess.PIPE)\n",
    "output, err = p.communicate(b'set q=mx\\npython.org\\nexit\\n')\n",
    "print(output.decode('utf-8'))\n",
    "print('Exit code:', p.returncode)"
   ]
  },
  {
   "cell_type": "code",
   "execution_count": 15,
   "metadata": {},
   "outputs": [
    {
     "name": "stdout",
     "output_type": "stream",
     "text": [
      "Process to write: 29739\n",
      "Put A to queue...\n",
      "Process to read: 29740\n",
      "Get A from queue.\n",
      "Put B to queue...\n",
      "Get B from queue.\n",
      "Put C to queue...\n",
      "Get C from queue.\n"
     ]
    }
   ],
   "source": [
    "from multiprocessing import Process,Queue\n",
    "import os, time, random\n",
    "\n",
    "def write(q):\n",
    "    print('Process to write: %s' % os.getpid())\n",
    "    for value in ['A', 'B', 'C']:\n",
    "        print('Put %s to queue...' % value)\n",
    "        q.put(value)\n",
    "        time.sleep(random.random())\n",
    "        \n",
    "def read(q):\n",
    "    print('Process to read: %s' % os.getpid())\n",
    "    while True:\n",
    "        value = q.get(True)\n",
    "        print('Get %s from queue.' % value)\n",
    "        \n",
    "if __name__=='__main__':\n",
    "    q = Queue()\n",
    "    pw = Process(target=write, args=(q,))\n",
    "    pr = Process(target=read, args=(q,))\n",
    "    #启动子进程pw，写入\n",
    "    pw.start()\n",
    "    #启动子进程pr，读取\n",
    "    pr.start()\n",
    "    #等待pw结束\n",
    "    pw.join()\n",
    "    #pr进程里是死循环，无法等待其结束，只能强行终止\n",
    "    pr.terminate()\n"
   ]
  },
  {
   "cell_type": "code",
   "execution_count": 20,
   "metadata": {},
   "outputs": [
    {
     "name": "stdout",
     "output_type": "stream",
     "text": [
      "thread MainThread is running...\n",
      "thread LoopThread is running...\n",
      "thread LoopThread >>> 1\n",
      "thread LoopThread >>> 2\n",
      "thread LoopThread >>> 3\n",
      "thread LoopThread >>> 4\n",
      "thread LoopThread >>> 5\n",
      "thread LoopThread ended.\n",
      "thread MainThread ended.\n"
     ]
    }
   ],
   "source": [
    "import time, threading\n",
    "\n",
    "def loop():\n",
    "    print('thread %s is running...' % threading.current_thread().name)\n",
    "    n = 0\n",
    "    while n < 5:\n",
    "        n = n + 1\n",
    "        print('thread %s >>> %s' % (threading.current_thread().name, n))\n",
    "        time.sleep(1)\n",
    "    print('thread %s ended.' % threading.current_thread().name)\n",
    "\n",
    "print('thread %s is running...' % threading.current_thread().name)\n",
    "t = threading.Thread(target=loop, name='LoopThread')\n",
    "t.start()\n",
    "t.join()\n",
    "print('thread %s ended.' % threading.current_thread().name)"
   ]
  },
  {
   "cell_type": "code",
   "execution_count": 16,
   "metadata": {},
   "outputs": [
    {
     "data": {
      "text/plain": [
       "'MainThread'"
      ]
     },
     "execution_count": 16,
     "metadata": {},
     "output_type": "execute_result"
    }
   ],
   "source": [
    "import time, threading\n",
    "threading.current_thread().name"
   ]
  },
  {
   "cell_type": "code",
   "execution_count": 32,
   "metadata": {},
   "outputs": [
    {
     "name": "stdout",
     "output_type": "stream",
     "text": [
      "0\n"
     ]
    }
   ],
   "source": [
    "import time, threading\n",
    "\n",
    "balance = 0\n",
    "lock = threading.Lock()\n",
    "\n",
    "def change_it(n):\n",
    "    \n",
    "    global balance\n",
    "    balance = balance + n\n",
    "    balance = balance - n\n",
    "    \n",
    "def run_thread(n):\n",
    "    for i in range(100000):\n",
    "        lock.acquire()\n",
    "        try:\n",
    "            change_it(n)\n",
    "        finally:\n",
    "            lock.release()\n",
    "    \n",
    "t1 = threading.Thread(target=run_thread, args=(5,))\n",
    "t2 = threading.Thread(target=run_thread, args=(8,))\n",
    "t1.start()\n",
    "t2.start()\n",
    "t1.join()\n",
    "t2.join()\n",
    "print(balance)"
   ]
  },
  {
   "cell_type": "code",
   "execution_count": 17,
   "metadata": {
    "collapsed": true
   },
   "outputs": [],
   "source": [
    "def process_student(name):\n",
    "    std = Student(name)\n",
    "    do_task_1(std)\n",
    "    do_task_2(std)\n",
    "    \n",
    "def do_task_1():\n",
    "    do_subtask_1(std)\n",
    "    do_subtask_2(std)\n",
    "    \n",
    "def do_task_2(std):\n",
    "    do_subtask_2(std)\n",
    "    do_subtask_2(std)"
   ]
  },
  {
   "cell_type": "code",
   "execution_count": 19,
   "metadata": {},
   "outputs": [
    {
     "name": "stdout",
     "output_type": "stream",
     "text": [
      "Hello, Alice (in Thread-A)Hello, Bob (in Thread-B)\n",
      "\n"
     ]
    }
   ],
   "source": [
    "import threading\n",
    "\n",
    "local_school = threading.local()\n",
    "\n",
    "def process_student():\n",
    "    std = local_school.student\n",
    "    print('Hello, %s (in %s)' % (std, threading.current_thread().name))\n",
    "    \n",
    "def process_thread(name):\n",
    "    local_school.student = name\n",
    "    process_student()\n",
    "    \n",
    "    \n",
    "t1 = threading.Thread(target=process_thread, args=('Alice',),name='Thread-A')\n",
    "\n",
    "t2 = threading.Thread(target=process_thread, args=('Bob',),name='Thread-B')\n",
    "\n",
    "t1.start()\n",
    "t2.start()\n",
    "t1.join()\n",
    "t2.join()"
   ]
  },
  {
   "cell_type": "code",
   "execution_count": 2,
   "metadata": {},
   "outputs": [
    {
     "name": "stdout",
     "output_type": "stream",
     "text": [
      "Put task 1005...\n",
      "Put task 5472...\n",
      "Put task 6954...\n",
      "Put task 5923...\n",
      "Put task 7066...\n",
      "Put task 107...\n",
      "Put task 6987...\n",
      "Put task 7336...\n",
      "Put task 6777...\n",
      "Put task 2067...\n",
      "Try get results...\n",
      "Result: 1005*1005=1010025\n",
      "Result: 5472*5472=29942784\n",
      "Result: 6954*6954=48358116\n",
      "Result: 5923*5923=35081929\n",
      "Result: 7066*7066=49928356\n",
      "Result: 107*107=11449\n",
      "Result: 6987*6987=48818169\n",
      "Result: 7336*7336=53816896\n",
      "Result: 6777*6777=45927729\n",
      "Result: 2067*2067=4272489\n",
      "master exit.\n"
     ]
    }
   ],
   "source": [
    "import random, time, queue\n",
    "from multiprocessing.managers import BaseManager\n",
    "\n",
    "task_queue = queue.Queue()\n",
    "\n",
    "result_queue = queue.Queue()\n",
    "\n",
    "class QueueManager(BaseManager):\n",
    "    pass\n",
    "\n",
    "QueueManager.register('get_task_queue',callable=lambda: task_queue)\n",
    "QueueManager.register('get_result_queue',callable=lambda: result_queue)\n",
    "\n",
    "manager = QueueManager(address=('',5000), authkey=b'abc')\n",
    "\n",
    "manager.start()\n",
    "\n",
    "task = manager.get_task_queue()\n",
    "result = manager.get_result_queue()\n",
    "\n",
    "for i in range(10):\n",
    "    n = random.randint(0, 10000)\n",
    "    print('Put task %d...' % n)\n",
    "    task.put(n)\n",
    "    \n",
    "print('Try get results...')\n",
    "for i in range(10):\n",
    "    r = result.get(timeout=10)\n",
    "    print('Result: %s' % r)\n",
    "    \n",
    "manager.shutdown()\n",
    "print('master exit.')"
   ]
  },
  {
   "cell_type": "code",
   "execution_count": null,
   "metadata": {
    "collapsed": true
   },
   "outputs": [],
   "source": [
    "import time, sys, queue\n",
    "from multiprocessing.managers import BaseManager\n",
    "\n",
    "class QueueManeger(BaseManager):\n",
    "    pass\n",
    "\n",
    "QueueManeger.register('get_task_queue')\n",
    "QueueManeger.register('get_result_queue')\n",
    "\n",
    "server_addr = '127.0.0.1'\n",
    "print('Connect to server %s...' % server_addr)\n",
    "\n",
    "m = QueueManeger(address=(server_addr, 5000), authkey=b'abc')\n",
    "\n",
    "m.connect()\n",
    "\n",
    "task = m.get_task_queue()\n",
    "result = m.get_result_queue()\n",
    "\n",
    "for i in range(10):\n",
    "    try:\n",
    "        n = task.get(timeout=1)\n",
    "        print('run task %d * %d...' % (n, n))\n",
    "        r = '%d * %d = %d' % (n, n, n*n)\n",
    "        time.sleep(1)\n",
    "        result.put(r)\n",
    "    except Queue.Empty:\n",
    "        print('task queue is empty.')\n",
    "        \n",
    "print('worker exit.')"
   ]
  },
  {
   "cell_type": "code",
   "execution_count": null,
   "metadata": {
    "collapsed": true
   },
   "outputs": [],
   "source": []
  }
 ],
 "metadata": {
  "kernelspec": {
   "display_name": "Python 3",
   "language": "python",
   "name": "python3"
  },
  "language_info": {
   "codemirror_mode": {
    "name": "ipython",
    "version": 3
   },
   "file_extension": ".py",
   "mimetype": "text/x-python",
   "name": "python",
   "nbconvert_exporter": "python",
   "pygments_lexer": "ipython3",
   "version": "3.6.8"
  }
 },
 "nbformat": 4,
 "nbformat_minor": 2
}
