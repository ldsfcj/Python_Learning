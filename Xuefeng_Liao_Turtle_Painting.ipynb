{
 "cells": [
  {
   "cell_type": "markdown",
   "metadata": {},
   "source": [
    "#图形界面\n",
    "Python支持的图形界面的第三方库，包括：\n",
    "##### Tk\n",
    "##### wxWidgets\n",
    "##### Qt\n",
    "##### GTK\n",
    "<br/>等等\n",
    "<br/>但是Python自带的库是支持Tk的Tkinter，使用Tkinter，无需安装任何包，就可以直接使用。本章简单介绍如何使用Tkinter进行GUI编程"
   ]
  },
  {
   "cell_type": "markdown",
   "metadata": {},
   "source": [
    "### Tkinter\n",
    "我们来梳理一下概念：\n",
    "\n",
    "我们编写的Python代码会调用内置的Tkinter，Tkinter封装了访问Tk的接口；\n",
    "\n",
    "Tk是一个图形库，支持多个操作系统，使用Tcl语言开发；\n",
    "\n",
    "Tk会调用操作系统提供的本地GUI接口，完成最终的GUI。\n",
    "\n",
    "所以，我们的代码只需要调用Tkinter提供的接口就可以了。"
   ]
  },
  {
   "cell_type": "markdown",
   "metadata": {},
   "source": [
    "### 第一个GUI程序\n",
    "使用Tkinter十分简单，我们来编写一个GUI版本的“Hello, world!”。\n",
    "\n",
    "第一步是导入Tkinter包的所有内容"
   ]
  },
  {
   "cell_type": "code",
   "execution_count": 1,
   "metadata": {
    "collapsed": true
   },
   "outputs": [],
   "source": [
    "from tkinter import *\n",
    "\n",
    "#第二步是从Frame派生一个Application类，这是所有Widget的父容器\n",
    "\n",
    "class Application(Frame):\n",
    "    def __init__(self, master=None):\n",
    "        Frame.__init__(self,master)\n",
    "        self.pack() #显示窗口并使用布局。grid方法是从Frame继承来的。Tkinter中有一个概念叫布局（layout），就是控件的排列方式。除了grid()，还有pack等布局\n",
    "        self.createWidgets()#self.createWidgets()，调用后面定义的createWidgets方法\n",
    "        \n",
    "    def createWidgets(self):\n",
    "        self.helloLabel = Label(self, text='Hello, world!')\n",
    "        self.helloLabel.pack()\n",
    "        self.quitButton = Button(self, text='Quit', command=self.quit)\n",
    "        self.quitButton.pack()"
   ]
  },
  {
   "cell_type": "markdown",
   "metadata": {},
   "source": [
    "在GUI中，每个Button、Label、输入框等，都是一个Widget。Frame则是可以容纳其他Widget的Widget，所有的Widget组合起来就是一棵树。\n",
    "\n",
    "pack()方法把Widget加入到父容器中，并实现布局。pack()是最简单的布局，grid()可以实现更复杂的布局。\n",
    "\n",
    "在createWidgets()方法中，我们创建一个Label和一个Button，当Button被点击时，触发self.quit()使程序退出。\n",
    "\n",
    "第三步，实例化Application，并启动消息循环："
   ]
  },
  {
   "cell_type": "code",
   "execution_count": 2,
   "metadata": {},
   "outputs": [],
   "source": [
    "app = Application()\n",
    "\n",
    "app.master.title('Hello World')\n",
    "\n",
    "app.mainloop()"
   ]
  },
  {
   "cell_type": "markdown",
   "metadata": {},
   "source": [
    "输入文本\n",
    "我们再对这个GUI程序改进一下，加入一个文本框，让用户可以输入文本，然后点按钮后，弹出消息对话框。\n",
    "\n"
   ]
  },
  {
   "cell_type": "code",
   "execution_count": 2,
   "metadata": {},
   "outputs": [],
   "source": [
    "from tkinter import *\n",
    "import tkinter.messagebox as messagebox\n",
    "\n",
    "class Application(Frame):\n",
    "    def __init__(self, master=None):\n",
    "        Frame.__init__(self, master)\n",
    "        self.pack()\n",
    "        self.createWidgets()\n",
    "        \n",
    "    def createWidgets(self):\n",
    "        self.nameInput = Entry(self)\n",
    "        self.nameInput.pack()\n",
    "        self.alertButton = Button(self, text='Hello', command=self.hello)\n",
    "        self.alertButton.pack()\n",
    "        \n",
    "    def hello(self):\n",
    "        name = self.nameInput.get() or 'world'\n",
    "        messagebox.showinfo('Message','Hello, %s' % name)\n",
    "        \n",
    "app = Application()\n",
    "\n",
    "app.master.title('Hello world')\n",
    "\n",
    "app.mainloop()\n",
    "        "
   ]
  },
  {
   "cell_type": "markdown",
   "metadata": {},
   "source": [
    "在1966年，Seymour Papert和Wally Feurzig发明了一种专门给儿童学习编程的语言——LOGO语言，它的特色就是通过编程指挥一个小海龟（turtle）在屏幕上绘图。\n",
    "\n",
    "海龟绘图（Turtle Graphics）后来被移植到各种高级语言中，Python内置了turtle库，基本上100%复制了原始的Turtle Graphics的所有功能。\n",
    "\n",
    "我们来看一个指挥小海龟绘制一个长方形的简单代码"
   ]
  },
  {
   "cell_type": "code",
   "execution_count": 7,
   "metadata": {},
   "outputs": [],
   "source": [
    "from turtle import *\n",
    "\n",
    "width(4)# 设置笔刷的宽度\n",
    "\n",
    "fd(200) #前进\n",
    "\n",
    "right(90)\n",
    "\n",
    "pencolor('red')\n",
    "forward(100)\n",
    "right(90)\n",
    "\n",
    "pencolor('green')\n",
    "forward(200)\n",
    "right(90)\n",
    "\n",
    "pencolor('blue')#笔刷颜色\n",
    "\n",
    "forward(100)\n",
    "right(90)#右转90度\n",
    "\n",
    "done()# 调用done()使得窗口等待被关闭，否则将立刻关闭窗口:"
   ]
  },
  {
   "cell_type": "markdown",
   "metadata": {},
   "source": [
    "\n",
    "\n",
    "从程序代码可以看出，海龟绘图就是指挥海龟前进、转向，海龟移动的轨迹就是绘制的线条。要绘制一个长方形，只需要让海龟前进、右转90度，反复4次。\n",
    "\n",
    "调用width()函数可以设置笔刷宽度，调用pencolor()函数可以设置颜色。更多操作请参考turtle库的说明。\n",
    "\n",
    "绘图完成后，记得调用done()函数，让窗口进入消息循环，等待被关闭。否则，由于Python进程会立刻结束，将导致窗口被立刻关闭。\n",
    "\n",
    "turtle包本身只是一个绘图库，但是配合Python代码，就可以绘制各种复杂的图形。例如，通过循环绘制5个五角星：\n",
    "\n"
   ]
  },
  {
   "cell_type": "code",
   "execution_count": 5,
   "metadata": {},
   "outputs": [],
   "source": [
    "from turtle import *\n",
    "\n",
    "def drawStar(x, y):\n",
    "    pu()\n",
    "    goto(x, y)\n",
    "    pd()\n",
    "    #set heading: 0\n",
    "    seth(0)\n",
    "    for i in range(5):\n",
    "        fd(40)\n",
    "        rt(144)\n",
    "        \n",
    "for x in range(0, 255, 50):\n",
    "    drawStar(x, 0)\n",
    "    \n",
    "done()"
   ]
  },
  {
   "cell_type": "code",
   "execution_count": 7,
   "metadata": {},
   "outputs": [],
   "source": [
    "from turtle import *\n",
    "\n",
    "# 设置色彩模式是RGB:\n",
    "colormode(255)\n",
    "\n",
    "lt(90)\n",
    "\n",
    "lv = 14\n",
    "l = 120\n",
    "s = 45\n",
    "\n",
    "width(lv)\n",
    "\n",
    "# 初始化RGB颜色:\n",
    "r = 0\n",
    "g = 0\n",
    "b = 0\n",
    "pencolor(r, g, b)\n",
    "\n",
    "penup()\n",
    "bk(l)\n",
    "pendown()\n",
    "fd(l)\n",
    "\n",
    "def draw_tree(l, level):\n",
    "    global r, g, b\n",
    "    # save the current pen width\n",
    "    w = width()\n",
    "\n",
    "    # narrow the pen width\n",
    "    width(w * 3.0 / 4.0)\n",
    "    # set color:\n",
    "    r = r + 1\n",
    "    g = g + 2\n",
    "    b = b + 3\n",
    "    pencolor(r % 200, g % 200, b % 200)\n",
    "\n",
    "    l = 3.0 / 4.0 * l\n",
    "\n",
    "    lt(s)\n",
    "    fd(l)\n",
    "\n",
    "    if level < lv:\n",
    "        draw_tree(l, level + 1)\n",
    "    bk(l)\n",
    "    rt(2 * s)\n",
    "    fd(l)\n",
    "\n",
    "    if level < lv:\n",
    "        draw_tree(l, level + 1)\n",
    "    bk(l)\n",
    "    lt(s)\n",
    "\n",
    "    # restore the previous pen width\n",
    "    width(w)\n",
    "\n",
    "speed(\"fastest\")\n",
    "\n",
    "draw_tree(l, 4)\n",
    "\n",
    "done()"
   ]
  },
  {
   "cell_type": "code",
   "execution_count": null,
   "metadata": {
    "collapsed": true
   },
   "outputs": [],
   "source": []
  },
  {
   "cell_type": "code",
   "execution_count": null,
   "metadata": {
    "collapsed": true
   },
   "outputs": [],
   "source": []
  }
 ],
 "metadata": {
  "kernelspec": {
   "display_name": "Python 3",
   "language": "python",
   "name": "python3"
  },
  "language_info": {
   "codemirror_mode": {
    "name": "ipython",
    "version": 3
   },
   "file_extension": ".py",
   "mimetype": "text/x-python",
   "name": "python",
   "nbconvert_exporter": "python",
   "pygments_lexer": "ipython3",
   "version": "3.6.8"
  }
 },
 "nbformat": 4,
 "nbformat_minor": 2
}
